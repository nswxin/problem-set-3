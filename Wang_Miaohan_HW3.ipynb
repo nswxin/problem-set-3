{
 "cells": [
  {
   "cell_type": "code",
   "execution_count": 1,
   "metadata": {},
   "outputs": [],
   "source": [
    "import random\n",
    "import numpy as np\n",
    "import matplotlib.pyplot as plt\n",
    "import pandas as pd\n",
    "from sklearn.datasets import make_blobs\n",
    "from sklearn.model_selection import train_test_split\n",
    "from sklearn.metrics import mean_squared_error\n",
    "from sklearn.linear_model import LinearRegression\n",
    "from itertools import combinations"
   ]
  },
  {
   "cell_type": "code",
   "execution_count": 2,
   "metadata": {},
   "outputs": [],
   "source": [
    "def lm_arbitrary_params(split_dataset, coeff):\n",
    "    X_train, X_test, y_train, y_test = split_dataset\n",
    "    \n",
    "    mod = LinearRegression()\n",
    "    mod.fit(X_train[:,coeff], y_train)\n",
    "    MSE_train = mean_squared_error(y_train, mod.predict(X_train[:,coeff]))\n",
    "    MSE_test = mean_squared_error(y_test, mod.predict(X_test[:,coeff]))\n",
    "    \n",
    "    return MSE_train, MSE_test, mod.get_params()\n",
    "\n",
    "\n",
    "def best_selection_at_size(split_dataset, size):\n",
    "    \n",
    "    min_MSE_train = 10000\n",
    "    best_coeff = None\n",
    "    best_MSE_test = 0\n",
    "    best_params = None\n",
    "    \n",
    "    for comb in combinations(range(20), size):\n",
    "        train, test, params = lm_arbitrary_params(split_dataset, comb)\n",
    "        if train < min_MSE_train:\n",
    "            min_MSE_train = train\n",
    "            best_MSE_test = test\n",
    "            best_coeff = comb\n",
    "            best_params = params\n",
    "            \n",
    "    return min_MSE_train, min_MSE_train, best_coeff, best_params"
   ]
  },
  {
   "cell_type": "markdown",
   "metadata": {},
   "source": [
    "# Conceptual Exercises {-}\n",
    "## Question 1 {-} "
   ]
  },
  {
   "cell_type": "code",
   "execution_count": 3,
   "metadata": {},
   "outputs": [],
   "source": [
    "seed = 20181205\n",
    "random.seed(seed)\n",
    "\n",
    "X_blob = make_blobs(n_samples=1000, n_features=20, random_state=seed)[0]\n",
    "\n",
    "custom_beta = np.array([random.random()*10 for i in range(17)] + [0,0,0])\n",
    "random.shuffle(custom_beta)\n",
    "\n",
    "\n",
    "y_response = np.matmul(X_blob, custom_beta) + np.random.normal(0,1,1000)\n",
    "\n",
    "split_dataset = train_test_split(X_blob, y_response,\n",
    "                                 test_size=0.9, \n",
    "                                 random_state=seed)"
   ]
  },
  {
   "cell_type": "code",
   "execution_count": null,
   "metadata": {},
   "outputs": [],
   "source": [
    "MSE_train_by_size = []\n",
    "MSE_test_by_size = []\n",
    "best_coeff_by_size = []\n",
    "best_params_by_size = []\n",
    "\n",
    "for i in range(1,21):\n",
    "    MSE_train, MSE_test, coeff, params = best_selection_at_size(split_dataset, i)\n",
    "    MSE_train_by_size.append(MSE_train)\n",
    "    MSE_test_by_size.append(MSE_test)\n",
    "    best_coeff_by_size.append(coeff)\n",
    "    best_params_by_size.append(params)"
   ]
  },
  {
   "cell_type": "code",
   "execution_count": null,
   "metadata": {},
   "outputs": [],
   "source": [
    "concept_df = pd.DataFrame({'size': range(1,21),\n",
    "                          'MSE_train': MSE_train_by_size,\n",
    "                          'MSE_test': MSE_test_by_size,\n",
    "                          'coeff': best_coeff_by_size,\n",
    "                          'params': best_params_by_size})\n",
    "\n",
    "# dataframe entry with the lowest MSE_train value\n",
    "concept_df.sort_values(by='MSE_train').iloc[0]"
   ]
  },
  {
   "cell_type": "code",
   "execution_count": null,
   "metadata": {},
   "outputs": [],
   "source": [
    "concept_df.plot(x='size', y='MSE_train', kind='line',\n",
    "               figsize=(8,6), xticks=range(1,21))\n",
    "plt.title(\"Best Model's Train MSE at Each Subset Size\", fontsize=20)\n",
    "plt.xlabel('Predictor Subset Size', fontsize=15)\n",
    "plt.ylabel('Train MSE', fontsize=15)\n",
    "plt.legend(fontsize=12);"
   ]
  },
  {
   "cell_type": "markdown",
   "metadata": {},
   "source": [
    "The model of subset size 16 has the minimum training MSE value."
   ]
  },
  {
   "cell_type": "code",
   "execution_count": null,
   "metadata": {
    "scrolled": true
   },
   "outputs": [],
   "source": [
    "# dataframe entry with the lowest MSE_test value\n",
    "concept_df.sort_values(by='MSE_test').iloc[0]"
   ]
  },
  {
   "cell_type": "code",
   "execution_count": null,
   "metadata": {},
   "outputs": [],
   "source": [
    "concept_df.plot(x='size', y='MSE_test', kind='line',\n",
    "               figsize=(8,6), xticks=range(1,21))\n",
    "plt.title(\"Best Model's Test MSE at Each Subset Size\", fontsize=20)\n",
    "plt.xlabel('Predictor Subset Size', fontsize=15)\n",
    "plt.ylabel('Test MSE', fontsize=15)\n",
    "plt.legend(fontsize=12);"
   ]
  },
  {
   "cell_type": "markdown",
   "metadata": {},
   "source": [
    "The model of subset size 16 has the minimum testing MSE value. We find the the subset size of 16 possesses both the minimal training MSE and the minimal testing MSE."
   ]
  },
  {
   "cell_type": "code",
   "execution_count": null,
   "metadata": {},
   "outputs": [],
   "source": [
    "# positions of zero entries in custom_beta\n",
    "[i for i in range(20) if custom_beta[i] == 0]"
   ]
  },
  {
   "cell_type": "code",
   "execution_count": null,
   "metadata": {},
   "outputs": [],
   "source": [
    "# positions of parameters in the best model (subset size = 16)\n",
    "concept_df['coeff'][15]"
   ]
  },
  {
   "cell_type": "code",
   "execution_count": null,
   "metadata": {},
   "outputs": [],
   "source": [
    "# the parameter left out from the first two sets\n",
    "custom_beta[5]"
   ]
  },
  {
   "cell_type": "markdown",
   "metadata": {},
   "source": [
    "The best model (coefficient size = 16) from the best subset selection closely resemble the model we used to generate the X data. This model excludes all zero entries we put into our generating $\\beta$ vector, and exclude another non-zero coefficient at position 5 that is very close to zero (0.094) in value."
   ]
  },
  {
   "cell_type": "code",
   "execution_count": null,
   "metadata": {},
   "outputs": [],
   "source": []
  }
 ],
 "metadata": {
  "kernelspec": {
   "display_name": "Python 3",
   "language": "python",
   "name": "python3"
  },
  "language_info": {
   "codemirror_mode": {
    "name": "ipython",
    "version": 3
   },
   "file_extension": ".py",
   "mimetype": "text/x-python",
   "name": "python",
   "nbconvert_exporter": "python",
   "pygments_lexer": "ipython3",
   "version": "3.7.1"
  }
 },
 "nbformat": 4,
 "nbformat_minor": 4
}
